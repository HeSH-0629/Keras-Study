{
  "nbformat": 4,
  "nbformat_minor": 0,
  "metadata": {
    "colab": {
      "name": "Conv2D_Cats and Dogs.ipynb",
      "provenance": [],
      "collapsed_sections": [],
      "authorship_tag": "ABX9TyOe+JIR2z7BcawW4cMMfVWG",
      "include_colab_link": true
    },
    "kernelspec": {
      "name": "python3",
      "display_name": "Python 3"
    }
  },
  "cells": [
    {
      "cell_type": "markdown",
      "metadata": {
        "id": "view-in-github",
        "colab_type": "text"
      },
      "source": [
        "<a href=\"https://colab.research.google.com/github/HeSH-0629/Keras-Study/blob/main/Conv2D_Cats_and_Dogs.ipynb\" target=\"_parent\"><img src=\"https://colab.research.google.com/assets/colab-badge.svg\" alt=\"Open In Colab\"/></a>"
      ]
    },
    {
      "cell_type": "markdown",
      "metadata": {
        "id": "lhg_crPe2y2q"
      },
      "source": [
        "원래는 이미지를 미리 다운받고 써야하지만 **(보안 이슈로)**여기서는 데이터 전처리와 증식 위주로 공부  \r\n",
        "차후에 파이썬 문법, Pandas 공부하고 사진 데이터 불러오고 처리하는 방법 배우기"
      ]
    },
    {
      "cell_type": "markdown",
      "metadata": {
        "id": "7GZd_i4c3Htp"
      },
      "source": [
        "# 이미지 데이터 전처리"
      ]
    },
    {
      "cell_type": "code",
      "metadata": {
        "id": "QSM5L_sr2m5K"
      },
      "source": [
        "from keras.preprocessing.image import ImageDataGenerator\r\n",
        "\r\n",
        "# 모든 이미지를 1/255로 스케일을 조정합니다\r\n",
        "#ImageDataGenerator는 이미지 파일을 텐서로 변환해주는 제너레이터(무한히 생성함) 생성\r\n",
        "train_datagen = ImageDataGenerator(rescale=1./255) \r\n",
        "test_datagen = ImageDataGenerator(rescale=1./255)\r\n",
        "\r\n",
        "train_generator = train_datagen.flow_from_directory(\r\n",
        "        train_dir,\r\n",
        "        target_size=(150, 150),\r\n",
        "        batch_size=20,\r\n",
        "        class_mode='binary') #개 or 고양이 이므로\r\n",
        "\r\n",
        "validation_generator = test_datagen.flow_from_directory(\r\n",
        "        validation_dir,\r\n",
        "        target_size=(150, 150),\r\n",
        "        batch_size=20,\r\n",
        "        class_mode='binary')\r\n",
        "\r\n",
        "history = model.fit_generator(\r\n",
        "      train_generator, #제너레이터를 여기다가 씀\r\n",
        "      steps_per_epoch=100, #에포크마다 뽑을 배치 데이터의 개수\r\n",
        "      epochs=30, \r\n",
        "      validation_data=validation_generator,\r\n",
        "      #검증 데이터 제너레이터에서 뽑을 배치 데이터의 개수\r\n",
        "      validation_steps=50)"
      ],
      "execution_count": null,
      "outputs": []
    },
    {
      "cell_type": "markdown",
      "metadata": {
        "id": "im0nXkKq4rSd"
      },
      "source": [
        "#이미지 데이터 증식\r\n",
        "샘플이 적은 경우 이미지 데이터를 변환해서 샘플을 늘림 (단, 중복 데이터 생성X)  \r\n",
        "이 경우 과대적합 가능성 증강하므로 DropOut 추가 필요"
      ]
    },
    {
      "cell_type": "code",
      "metadata": {
        "id": "UWRxxwzX41-b"
      },
      "source": [
        "datagen = ImageDataGenerator(\r\n",
        "      rotation_range=40,      # 랜덤하게 회전시킬 각도\r\n",
        "      width_shift_range=0.2,  # 사진을 평행이동 시킬 범위(넓이와 길이에 대한 비율임)\r\n",
        "      height_shift_range=0.2,\r\n",
        "      shear_range=0.2,        # 전단변환 시킬 각도 범위 (층밀림)\r\n",
        "      zoom_range=0.2,         # 확도시킬 범위\r\n",
        "      horizontal_flip=True,   # 수평으로 뒤집기 여부\r\n",
        "      fill_mode='nearest')    # 빈 공간 발생시 채울 방법 (nearest는 가까이 있는 픽셀을 들고옴)"
      ],
      "execution_count": null,
      "outputs": []
    }
  ]
}
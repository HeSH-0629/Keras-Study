{
  "nbformat": 4,
  "nbformat_minor": 0,
  "metadata": {
    "colab": {
      "name": "mnist_with_Convnet.ipynb",
      "provenance": [],
      "collapsed_sections": [],
      "machine_shape": "hm",
      "authorship_tag": "ABX9TyOPI3XXbi7Kt3p5B4X70ZZ7",
      "include_colab_link": true
    },
    "kernelspec": {
      "name": "python3",
      "display_name": "Python 3"
    },
    "accelerator": "GPU"
  },
  "cells": [
    {
      "cell_type": "markdown",
      "metadata": {
        "id": "view-in-github",
        "colab_type": "text"
      },
      "source": [
        "<a href=\"https://colab.research.google.com/github/HeSH-0629/Keras-Study/blob/main/mnist_with_Convnet.ipynb\" target=\"_parent\"><img src=\"https://colab.research.google.com/assets/colab-badge.svg\" alt=\"Open In Colab\"/></a>"
      ]
    },
    {
      "cell_type": "code",
      "metadata": {
        "colab": {
          "base_uri": "https://localhost:8080/"
        },
        "id": "1p45I_xbE2yF",
        "outputId": "df01cb42-ca0d-4782-83ce-dda7fe6ed927"
      },
      "source": [
        "from keras import layers\r\n",
        "from keras import models\r\n",
        "from keras.datasets import mnist\r\n",
        "from keras.utils import to_categorical\r\n",
        "\r\n",
        "(train_images, train_labels), (test_images, test_labels) = mnist.load_data()\r\n",
        "\r\n",
        "train_images = train_images.reshape((60000,28,28,1)) #이미지를 (sample,heigh,width,channel)로 reshape\r\n",
        "train_images = train_images.astype('float32')/255\r\n",
        "\r\n",
        "test_images = test_images.reshape((10000,28,28,1))\r\n",
        "test_images = test_images.astype('float32')/255\r\n",
        "\r\n",
        "train_labels = to_categorical(train_labels)\r\n",
        "test_labels = to_categorical(test_labels)\r\n",
        "\r\n",
        "model=models.Sequential()\r\n",
        "model.add(layers.Conv2D(32,(3,3), activation = 'relu', input_shape=(28,28,1)))\r\n",
        "model.add(layers.MaxPooling2D((2,2)))\r\n",
        "model.add(layers.Conv2D(64,(3,3), activation = 'relu'))\r\n",
        "model.add(layers.MaxPooling2D((2,2)))\r\n",
        "model.add(layers.Conv2D(64,(3,3), activation = 'relu'))\r\n",
        "model.add(layers.Flatten())\r\n",
        "model.add(layers.Dense(64, activation = 'relu'))\r\n",
        "model.add(layers.Dense(10,activation = 'softmax'))\r\n",
        "model.compile(optimizer='rmsprop',loss='categorical_crossentropy',metrics=['acc'])\r\n",
        "x_val = train_images[:10000]\r\n",
        "y_val = train_labels[:10000]\r\n",
        "partial_x_train=train_images[10000:]\r\n",
        "partial_y_train=train_labels[10000:]\r\n",
        "history=model.fit(partial_x_train,\r\n",
        "                  partial_y_train, \r\n",
        "                  epochs=20, \r\n",
        "                  batch_size=64,\r\n",
        "                  validation_data=(x_val,y_val))"
      ],
      "execution_count": 9,
      "outputs": [
        {
          "output_type": "stream",
          "text": [
            "Epoch 1/20\n",
            "782/782 [==============================] - 4s 4ms/step - loss: 0.4393 - acc: 0.8603 - val_loss: 0.0806 - val_acc: 0.9756\n",
            "Epoch 2/20\n",
            "782/782 [==============================] - 3s 4ms/step - loss: 0.0578 - acc: 0.9823 - val_loss: 0.0518 - val_acc: 0.9846\n",
            "Epoch 3/20\n",
            "782/782 [==============================] - 3s 4ms/step - loss: 0.0363 - acc: 0.9878 - val_loss: 0.0386 - val_acc: 0.9888\n",
            "Epoch 4/20\n",
            "782/782 [==============================] - 3s 4ms/step - loss: 0.0278 - acc: 0.9908 - val_loss: 0.0402 - val_acc: 0.9886\n",
            "Epoch 5/20\n",
            "782/782 [==============================] - 3s 4ms/step - loss: 0.0207 - acc: 0.9941 - val_loss: 0.0510 - val_acc: 0.9868\n",
            "Epoch 6/20\n",
            "782/782 [==============================] - 3s 4ms/step - loss: 0.0166 - acc: 0.9941 - val_loss: 0.0543 - val_acc: 0.9868\n",
            "Epoch 7/20\n",
            "782/782 [==============================] - 3s 4ms/step - loss: 0.0134 - acc: 0.9963 - val_loss: 0.0525 - val_acc: 0.9895\n",
            "Epoch 8/20\n",
            "782/782 [==============================] - 3s 4ms/step - loss: 0.0120 - acc: 0.9965 - val_loss: 0.0416 - val_acc: 0.9912\n",
            "Epoch 9/20\n",
            "782/782 [==============================] - 3s 4ms/step - loss: 0.0099 - acc: 0.9967 - val_loss: 0.0511 - val_acc: 0.9894\n",
            "Epoch 10/20\n",
            "782/782 [==============================] - 3s 4ms/step - loss: 0.0082 - acc: 0.9975 - val_loss: 0.0511 - val_acc: 0.9913\n",
            "Epoch 11/20\n",
            "782/782 [==============================] - 3s 4ms/step - loss: 0.0060 - acc: 0.9985 - val_loss: 0.0630 - val_acc: 0.9886\n",
            "Epoch 12/20\n",
            "782/782 [==============================] - 3s 4ms/step - loss: 0.0051 - acc: 0.9984 - val_loss: 0.0652 - val_acc: 0.9901\n",
            "Epoch 13/20\n",
            "782/782 [==============================] - 3s 4ms/step - loss: 0.0051 - acc: 0.9981 - val_loss: 0.0612 - val_acc: 0.9913\n",
            "Epoch 14/20\n",
            "782/782 [==============================] - 3s 4ms/step - loss: 0.0043 - acc: 0.9985 - val_loss: 0.0570 - val_acc: 0.9908\n",
            "Epoch 15/20\n",
            "782/782 [==============================] - 3s 4ms/step - loss: 0.0037 - acc: 0.9988 - val_loss: 0.0592 - val_acc: 0.9913\n",
            "Epoch 16/20\n",
            "782/782 [==============================] - 3s 4ms/step - loss: 0.0035 - acc: 0.9988 - val_loss: 0.0766 - val_acc: 0.9884\n",
            "Epoch 17/20\n",
            "782/782 [==============================] - 3s 4ms/step - loss: 0.0038 - acc: 0.9988 - val_loss: 0.0876 - val_acc: 0.9902\n",
            "Epoch 18/20\n",
            "782/782 [==============================] - 3s 4ms/step - loss: 0.0037 - acc: 0.9991 - val_loss: 0.0820 - val_acc: 0.9904\n",
            "Epoch 19/20\n",
            "782/782 [==============================] - 3s 4ms/step - loss: 0.0020 - acc: 0.9993 - val_loss: 0.0735 - val_acc: 0.9919\n",
            "Epoch 20/20\n",
            "782/782 [==============================] - 3s 4ms/step - loss: 0.0033 - acc: 0.9991 - val_loss: 0.1068 - val_acc: 0.9892\n"
          ],
          "name": "stdout"
        }
      ]
    },
    {
      "cell_type": "code",
      "metadata": {
        "colab": {
          "base_uri": "https://localhost:8080/",
          "height": 278
        },
        "id": "aSzm-sChKdY8",
        "outputId": "3cc9270f-02a3-4738-98e0-28b1be60ab15"
      },
      "source": [
        "import matplotlib.pyplot as plt\r\n",
        "history_dict=history.history\r\n",
        "acc=history_dict['acc']\r\n",
        "val_acc=history_dict['val_acc']\r\n",
        "epochs = range(1,len(acc)+1)\r\n",
        "plt.xlabel('Epochs')\r\n",
        "plt.ylabel('acc')\r\n",
        "plt.plot(epochs, acc, 'b', label='accuracy')\r\n",
        "plt.plot(epochs, val_acc, 'bo', label='val_accuracy')\r\n",
        "plt.legend()\r\n",
        "plt.show()"
      ],
      "execution_count": 10,
      "outputs": [
        {
          "output_type": "display_data",
          "data": {
            "image/png": "[encoded data removed]",
            "text/plain": [
              "<Figure size 432x288 with 1 Axes>"
            ]
          },
          "metadata": {
            "tags": [],
            "needs_background": "light"
          }
        }
      ]
    },
    {
      "cell_type": "code",
      "metadata": {
        "colab": {
          "base_uri": "https://localhost:8080/"
        },
        "id": "W-DnOV6RI4zu",
        "outputId": "6eda33fa-a358-48eb-cecf-ad7ce4d087a7"
      },
      "source": [
        "result=model.evaluate(test_images, test_labels)\r\n",
        "result"
      ],
      "execution_count": 11,
      "outputs": [
        {
          "output_type": "stream",
          "text": [
            "313/313 [==============================] - 1s 2ms/step - loss: 0.0696 - acc: 0.9921\n"
          ],
          "name": "stdout"
        },
        {
          "output_type": "execute_result",
          "data": {
            "text/plain": [
              "[0.06964188069105148, 0.9921000003814697]"
            ]
          },
          "metadata": {
            "tags": []
          },
          "execution_count": 11
        }
      ]
    }
  ]
}
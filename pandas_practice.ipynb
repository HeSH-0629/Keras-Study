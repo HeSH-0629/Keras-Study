{
  "nbformat": 4,
  "nbformat_minor": 0,
  "metadata": {
    "colab": {
      "name": "pandas_practice.ipynb",
      "provenance": [],
      "collapsed_sections": [],
      "authorship_tag": "ABX9TyO+v6AoLz4+0bmG4NPg8A5N",
      "include_colab_link": true
    },
    "kernelspec": {
      "name": "python3",
      "display_name": "Python 3"
    },
    "language_info": {
      "name": "python"
    }
  },
  "cells": [
    {
      "cell_type": "markdown",
      "metadata": {
        "id": "view-in-github",
        "colab_type": "text"
      },
      "source": [
        "<a href=\"https://colab.research.google.com/github/Hesh0629/Keras-Study/blob/main/pandas_practice.ipynb\" target=\"_parent\"><img src=\"https://colab.research.google.com/assets/colab-badge.svg\" alt=\"Open In Colab\"/></a>"
      ]
    },
    {
      "cell_type": "markdown",
      "metadata": {
        "id": "Y8PZ3IYVRySG"
      },
      "source": [
        "**1. 데이터프레임 생성**"
      ]
    },
    {
      "cell_type": "code",
      "metadata": {
        "colab": {
          "base_uri": "https://localhost:8080/",
          "height": 235
        },
        "id": "3DyUHpD4AD8p",
        "outputId": "1534d3ac-4df7-4a12-de02-e771b07b1908"
      },
      "source": [
        "import pandas as pd\n",
        "import numpy as np\n",
        "import matplotlib.pyplot as plt\n",
        "\n",
        "dates = pd.date_range('20210101', periods=6)\n",
        "df = pd.DataFrame(np.random.randn(6,4), index=dates, columns=list('ABCD')) # 내용물, index 뭘로할지, colum 지정 by 리스트\n",
        "df"
      ],
      "execution_count": null,
      "outputs": [
        {
          "output_type": "execute_result",
          "data": {
            "text/html": [
              "<div>\n",
              "<style scoped>\n",
              "    .dataframe tbody tr th:only-of-type {\n",
              "        vertical-align: middle;\n",
              "    }\n",
              "\n",
              "    .dataframe tbody tr th {\n",
              "        vertical-align: top;\n",
              "    }\n",
              "\n",
              "    .dataframe thead th {\n",
              "        text-align: right;\n",
              "    }\n",
              "</style>\n",
              "<table border=\"1\" class=\"dataframe\">\n",
              "  <thead>\n",
              "    <tr style=\"text-align: right;\">\n",
              "      <th></th>\n",
              "      <th>A</th>\n",
              "      <th>B</th>\n",
              "      <th>C</th>\n",
              "      <th>D</th>\n",
              "    </tr>\n",
              "  </thead>\n",
              "  <tbody>\n",
              "    <tr>\n",
              "      <th>2021-01-01</th>\n",
              "      <td>-0.433317</td>\n",
              "      <td>0.127577</td>\n",
              "      <td>1.440529</td>\n",
              "      <td>0.436074</td>\n",
              "    </tr>\n",
              "    <tr>\n",
              "      <th>2021-01-02</th>\n",
              "      <td>-0.135093</td>\n",
              "      <td>0.830027</td>\n",
              "      <td>0.495609</td>\n",
              "      <td>0.872272</td>\n",
              "    </tr>\n",
              "    <tr>\n",
              "      <th>2021-01-03</th>\n",
              "      <td>1.331043</td>\n",
              "      <td>0.357012</td>\n",
              "      <td>1.023385</td>\n",
              "      <td>-0.555051</td>\n",
              "    </tr>\n",
              "    <tr>\n",
              "      <th>2021-01-04</th>\n",
              "      <td>-0.971383</td>\n",
              "      <td>0.202735</td>\n",
              "      <td>1.495362</td>\n",
              "      <td>2.596695</td>\n",
              "    </tr>\n",
              "    <tr>\n",
              "      <th>2021-01-05</th>\n",
              "      <td>0.059225</td>\n",
              "      <td>0.140948</td>\n",
              "      <td>1.740434</td>\n",
              "      <td>0.985955</td>\n",
              "    </tr>\n",
              "    <tr>\n",
              "      <th>2021-01-06</th>\n",
              "      <td>0.673945</td>\n",
              "      <td>0.971399</td>\n",
              "      <td>-0.203895</td>\n",
              "      <td>-1.277451</td>\n",
              "    </tr>\n",
              "  </tbody>\n",
              "</table>\n",
              "</div>"
            ],
            "text/plain": [
              "                   A         B         C         D\n",
              "2021-01-01 -0.433317  0.127577  1.440529  0.436074\n",
              "2021-01-02 -0.135093  0.830027  0.495609  0.872272\n",
              "2021-01-03  1.331043  0.357012  1.023385 -0.555051\n",
              "2021-01-04 -0.971383  0.202735  1.495362  2.596695\n",
              "2021-01-05  0.059225  0.140948  1.740434  0.985955\n",
              "2021-01-06  0.673945  0.971399 -0.203895 -1.277451"
            ]
          },
          "metadata": {
            "tags": []
          },
          "execution_count": 121
        }
      ]
    },
    {
      "cell_type": "code",
      "metadata": {
        "colab": {
          "base_uri": "https://localhost:8080/"
        },
        "id": "mrWq5G1gB01l",
        "outputId": "bda4e744-acea-4abd-c5d8-bf003367a5b6"
      },
      "source": [
        "df2 = pd.DataFrame({'A': 1.,\n",
        "                    'B': pd.Timestamp('20130102'),\n",
        "                    'C': pd.Series(1, index=list(range(4)), dtype='float32'),\n",
        "                    'D': np.array([3]*4, dtype='int32'),\n",
        "                    'E': pd.Categorical(['test', 'train', 'test', 'train']),\n",
        "                    'F': 'foo'}, index=list('asdf')) #dict 방식으로 col 지정해서 만들기, index는 임의지정\n",
        "print(df2,\"\\n\")\n",
        "print(df2.index)\n",
        "print(df2.columns)"
      ],
      "execution_count": null,
      "outputs": [
        {
          "output_type": "stream",
          "text": [
            "     A          B   C  D      E    F\n",
            "a  1.0 2013-01-02 NaN  3   test  foo\n",
            "s  1.0 2013-01-02 NaN  3  train  foo\n",
            "d  1.0 2013-01-02 NaN  3   test  foo\n",
            "f  1.0 2013-01-02 NaN  3  train  foo \n",
            "\n",
            "Index(['a', 's', 'd', 'f'], dtype='object')\n",
            "Index(['A', 'B', 'C', 'D', 'E', 'F'], dtype='object')\n"
          ],
          "name": "stdout"
        }
      ]
    },
    {
      "cell_type": "markdown",
      "metadata": {
        "id": "YBQnYU9NR3Xo"
      },
      "source": [
        "**2. 데이터 정렬및 탐색**"
      ]
    },
    {
      "cell_type": "code",
      "metadata": {
        "colab": {
          "base_uri": "https://localhost:8080/"
        },
        "id": "EZ4WuawmGYQ4",
        "outputId": "41de86ba-b698-499b-d8da-e1ec89f7992f"
      },
      "source": [
        "print(df)\n",
        "print(df.describe()) #data frame의 통계치 보기\n",
        "print(df.sort_index(axis=1,ascending=False)) #data정렬 by index(axis=0), col(axis=1) order"
      ],
      "execution_count": null,
      "outputs": [
        {
          "output_type": "stream",
          "text": [
            "                   A         B         C         D\n",
            "2021-01-01 -0.433317  0.127577  1.440529  0.436074\n",
            "2021-01-02 -0.135093  0.830027  0.495609  0.872272\n",
            "2021-01-03  1.331043  0.357012  1.023385 -0.555051\n",
            "2021-01-04 -0.971383  0.202735  1.495362  2.596695\n",
            "2021-01-05  0.059225  0.140948  1.740434  0.985955\n",
            "2021-01-06  0.673945  0.971399 -0.203895 -1.277451\n",
            "              A         B         C         D\n",
            "count  6.000000  6.000000  6.000000  6.000000\n",
            "mean   0.087403  0.438283  0.998571  0.509749\n",
            "std    0.816474  0.370057  0.733757  1.345128\n",
            "min   -0.971383  0.127577 -0.203895 -1.277451\n",
            "25%   -0.358761  0.156395  0.627553 -0.307270\n",
            "50%   -0.037934  0.279873  1.231957  0.654173\n",
            "75%    0.520265  0.711773  1.481654  0.957535\n",
            "max    1.331043  0.971399  1.740434  2.596695\n",
            "                   D         C         B         A\n",
            "2021-01-01  0.436074  1.440529  0.127577 -0.433317\n",
            "2021-01-02  0.872272  0.495609  0.830027 -0.135093\n",
            "2021-01-03 -0.555051  1.023385  0.357012  1.331043\n",
            "2021-01-04  2.596695  1.495362  0.202735 -0.971383\n",
            "2021-01-05  0.985955  1.740434  0.140948  0.059225\n",
            "2021-01-06 -1.277451 -0.203895  0.971399  0.673945\n"
          ],
          "name": "stdout"
        }
      ]
    },
    {
      "cell_type": "markdown",
      "metadata": {
        "id": "2HbGPDtwgB_p"
      },
      "source": [
        "df[ ] 로 검색할때는 df[col 이름], df[시작 인덱스 또는 이름:끝 인덱스 또는 이름]"
      ]
    },
    {
      "cell_type": "code",
      "metadata": {
        "colab": {
          "base_uri": "https://localhost:8080/"
        },
        "id": "8J7f-mJEGZup",
        "outputId": "a59328a7-2e99-412f-cd0b-2d7f2ce7d485"
      },
      "source": [
        "print(df[0:1])\n",
        "print(df['A'],\"\\ndata type is\",type(df['A']))  #원하는 col값 들고오는 방법 (Series). df.A 방식으로도 가능\n",
        "print(df[0:3],\"\\ndata type is\",type(df[0:3]))  #원하는 index값 들고오는 방법 (Series). 슬라이싱 방식\n",
        "print(df['2021-01-04':'2021-01-04'])           #원하는 index값 하나 만 들고오는 방법 (평소대로 하다간 col값 들고옴)"
      ],
      "execution_count": null,
      "outputs": [
        {
          "output_type": "stream",
          "text": [
            "                   A         B         C         D\n",
            "2021-01-01 -0.433317  0.127577  1.440529  0.436074\n",
            "2021-01-01   -0.433317\n",
            "2021-01-02   -0.135093\n",
            "2021-01-03    1.331043\n",
            "2021-01-04   -0.971383\n",
            "2021-01-05    0.059225\n",
            "2021-01-06    0.673945\n",
            "Freq: D, Name: A, dtype: float64 \n",
            "data type is <class 'pandas.core.series.Series'>\n",
            "                   A         B         C         D\n",
            "2021-01-01 -0.433317  0.127577  1.440529  0.436074\n",
            "2021-01-02 -0.135093  0.830027  0.495609  0.872272\n",
            "2021-01-03  1.331043  0.357012  1.023385 -0.555051 \n",
            "data type is <class 'pandas.core.frame.DataFrame'>\n",
            "                   A         B         C         D\n",
            "2021-01-04 -0.971383  0.202735  1.495362  2.596695\n"
          ],
          "name": "stdout"
        }
      ]
    },
    {
      "cell_type": "markdown",
      "metadata": {
        "id": "Y1Kuz5NHMT7U"
      },
      "source": [
        "**loc  = 이름을 이용하여 선택하기**  \n",
        "**iloc = 범위를 이용하여 선택하기**"
      ]
    },
    {
      "cell_type": "code",
      "metadata": {
        "colab": {
          "base_uri": "https://localhost:8080/"
        },
        "id": "Hy8HCblCJvlz",
        "outputId": "65360ccd-fb4f-47a7-e385-8a05911531ae"
      },
      "source": [
        "print(df.loc['2021-01-04']) #원하는 인덱스의 모든 col 값 들고오는 방법 == df.iloc[3]\n",
        "print(df.loc['2021-01-02':'2021-01-04',['A','B']])  #원본임 (인덱스, col값)\n",
        "print(\"at method\\n\",df.at['2021-01-02', 'B']) #특정 인덱스, col의 값 들고오는 방법. loc대신 at사용 가능\n",
        "print(\"iat method\\n\",df.iat[0,1])\n",
        "print(\"\\n\",df.iloc[1:2,0:2]) #배열 슬라이싱 하듯 잘라서 가져오기\n",
        "print(\"\\n\",df.iloc[[1,2],[0,2]]) #index col을 리스트 단위로 넘겨서 각각 보는것 가능\n",
        "\n",
        "#print(\"\\n\", df[df > 0]) #조건 검색하는 방법, 조건에 안맞는 값들은 NaN 처리\n",
        "df['E']=['one', 'one','two','three','four','three']\n",
        "print(\"\\n\", df[df['E'].isin(['two','four'])]) #index 추가하고 그거 기준으로 행 잡는 방법"
      ],
      "execution_count": null,
      "outputs": [
        {
          "output_type": "stream",
          "text": [
            "A      0.54337\n",
            "B    0.0882006\n",
            "C     0.159525\n",
            "D      1.84285\n",
            "E        three\n",
            "Name: 2021-01-04 00:00:00, dtype: object\n",
            "                   A         B\n",
            "2021-01-02  1.626730  0.648247\n",
            "2021-01-03  1.112667  0.052476\n",
            "2021-01-04  0.543370  0.088201\n",
            "at method\n",
            " 0.6482469058376059\n",
            "iat method\n",
            " -0.5732077752058966\n",
            "\n",
            "                   A         B\n",
            "2021-01-02  1.62673  0.648247\n",
            "\n",
            "                    A         C\n",
            "2021-01-02  1.626730 -0.216239\n",
            "2021-01-03  1.112667 -1.341111\n",
            "\n",
            "                    A         B         C         D     E\n",
            "2021-01-03  1.112667  0.052476 -1.341111  0.078194   two\n",
            "2021-01-05 -1.018659 -0.815275 -0.843382  2.098413  four\n"
          ],
          "name": "stdout"
        }
      ]
    },
    {
      "cell_type": "markdown",
      "metadata": {
        "id": "vUByi1atRqRo"
      },
      "source": [
        "**3. 데이터 고쳐 쓰기**  \n",
        "(사실 검색한 이후 고치면 끝이지만 결측치 처리같은 내용 다룸)"
      ]
    },
    {
      "cell_type": "code",
      "metadata": {
        "colab": {
          "base_uri": "https://localhost:8080/"
        },
        "id": "5bgjBW4nSwNw",
        "outputId": "87f98625-6b87-4e84-f0e9-9d5f6a7bb1db"
      },
      "source": [
        "df1 = df.reindex(index=dates[0:4], columns=list(df.columns))\n",
        "df1.loc[dates[0]:dates[4], 'E'] = 1\n",
        "df1[df1.loc[:,:'E']<=0]=None\n",
        "print(df1) #억지로 NaN값 만들기\n",
        "df1.dropna(how='any') #NaN 값이 있는 행 탈락시키는 방법\n",
        "print(pd.isna(df1)) #NaN을 True false로 표현\n",
        "print(df1.fillna(value=0)) #NaN을 0으로 채우기"
      ],
      "execution_count": null,
      "outputs": [
        {
          "output_type": "stream",
          "text": [
            "                   A         B         C         D  E\n",
            "2021-01-01  0.752725       NaN  0.836968  2.110506  1\n",
            "2021-01-02  1.626730  0.648247       NaN  1.235885  1\n",
            "2021-01-03  1.112667  0.052476       NaN  0.078194  1\n",
            "2021-01-04  0.543370  0.088201  0.159525  1.842855  1\n",
            "                A      B      C      D      E\n",
            "2021-01-01  False   True  False  False  False\n",
            "2021-01-02  False  False   True  False  False\n",
            "2021-01-03  False  False   True  False  False\n",
            "2021-01-04  False  False  False  False  False\n",
            "                   A         B         C         D  E\n",
            "2021-01-01  0.752725  0.000000  0.836968  2.110506  1\n",
            "2021-01-02  1.626730  0.648247  0.000000  1.235885  1\n",
            "2021-01-03  1.112667  0.052476  0.000000  0.078194  1\n",
            "2021-01-04  0.543370  0.088201  0.159525  1.842855  1\n"
          ],
          "name": "stdout"
        }
      ]
    },
    {
      "cell_type": "markdown",
      "metadata": {
        "id": "bPTLil8uWEId"
      },
      "source": [
        "**4. 연산하기**"
      ]
    },
    {
      "cell_type": "code",
      "metadata": {
        "colab": {
          "base_uri": "https://localhost:8080/"
        },
        "id": "nFQLJ4VWWN-m",
        "outputId": "556dd842-7a6f-4dbe-cd90-f4a9e2b7295e"
      },
      "source": [
        "print(df1.mean()) #axis 0(default)를 따라 평균연산 -> col기준\n",
        "print(df1.mean(1)) # axis 1 따라 평균계산 -> index 기준\n",
        "# df.sub(s, axis=0) axis를 따라서 s에 있는 Series 값들을 빼줌\n",
        "s = pd.Series(np.random.randint(0, 7, size=10)) \n",
        "s.value_counts() #s의 값들이 몇 번 나왔는지 cnt"
      ],
      "execution_count": null,
      "outputs": [
        {
          "output_type": "stream",
          "text": [
            "A    1.008873\n",
            "B    0.262975\n",
            "C    0.498247\n",
            "D    1.316860\n",
            "E    1.000000\n",
            "dtype: float64\n",
            "2021-01-01    1.175050\n",
            "2021-01-02    1.127715\n",
            "2021-01-03    0.560834\n",
            "2021-01-04    0.726790\n",
            "Freq: D, dtype: float64\n"
          ],
          "name": "stdout"
        },
        {
          "output_type": "execute_result",
          "data": {
            "text/plain": [
              "3    2\n",
              "2    2\n",
              "0    2\n",
              "6    1\n",
              "5    1\n",
              "4    1\n",
              "1    1\n",
              "dtype: int64"
            ]
          },
          "metadata": {
            "tags": []
          },
          "execution_count": 95
        }
      ]
    },
    {
      "cell_type": "markdown",
      "metadata": {
        "id": "4kKmQxsGaig5"
      },
      "source": [
        "**5. string 처리하는 방법**"
      ]
    },
    {
      "cell_type": "code",
      "metadata": {
        "colab": {
          "base_uri": "https://localhost:8080/",
          "height": 204
        },
        "id": "DW4PogFUahsb",
        "outputId": "339aee31-cbbe-48e7-eac3-050287f78bbe"
      },
      "source": [
        "import pandas as pd\n",
        "import plotly.express as px\n",
        "asdf = px.data.gapminder()\n",
        "asdf.head()"
      ],
      "execution_count": null,
      "outputs": [
        {
          "output_type": "execute_result",
          "data": {
            "text/html": [
              "<div>\n",
              "<style scoped>\n",
              "    .dataframe tbody tr th:only-of-type {\n",
              "        vertical-align: middle;\n",
              "    }\n",
              "\n",
              "    .dataframe tbody tr th {\n",
              "        vertical-align: top;\n",
              "    }\n",
              "\n",
              "    .dataframe thead th {\n",
              "        text-align: right;\n",
              "    }\n",
              "</style>\n",
              "<table border=\"1\" class=\"dataframe\">\n",
              "  <thead>\n",
              "    <tr style=\"text-align: right;\">\n",
              "      <th></th>\n",
              "      <th>country</th>\n",
              "      <th>continent</th>\n",
              "      <th>year</th>\n",
              "      <th>lifeExp</th>\n",
              "      <th>pop</th>\n",
              "      <th>gdpPercap</th>\n",
              "      <th>iso_alpha</th>\n",
              "      <th>iso_num</th>\n",
              "    </tr>\n",
              "  </thead>\n",
              "  <tbody>\n",
              "    <tr>\n",
              "      <th>0</th>\n",
              "      <td>Afghanistan</td>\n",
              "      <td>Asia</td>\n",
              "      <td>1952</td>\n",
              "      <td>28.801</td>\n",
              "      <td>8425333</td>\n",
              "      <td>779.445314</td>\n",
              "      <td>AFG</td>\n",
              "      <td>4</td>\n",
              "    </tr>\n",
              "    <tr>\n",
              "      <th>1</th>\n",
              "      <td>Afghanistan</td>\n",
              "      <td>Asia</td>\n",
              "      <td>1957</td>\n",
              "      <td>30.332</td>\n",
              "      <td>9240934</td>\n",
              "      <td>820.853030</td>\n",
              "      <td>AFG</td>\n",
              "      <td>4</td>\n",
              "    </tr>\n",
              "    <tr>\n",
              "      <th>2</th>\n",
              "      <td>Afghanistan</td>\n",
              "      <td>Asia</td>\n",
              "      <td>1962</td>\n",
              "      <td>31.997</td>\n",
              "      <td>10267083</td>\n",
              "      <td>853.100710</td>\n",
              "      <td>AFG</td>\n",
              "      <td>4</td>\n",
              "    </tr>\n",
              "    <tr>\n",
              "      <th>3</th>\n",
              "      <td>Afghanistan</td>\n",
              "      <td>Asia</td>\n",
              "      <td>1967</td>\n",
              "      <td>34.020</td>\n",
              "      <td>11537966</td>\n",
              "      <td>836.197138</td>\n",
              "      <td>AFG</td>\n",
              "      <td>4</td>\n",
              "    </tr>\n",
              "    <tr>\n",
              "      <th>4</th>\n",
              "      <td>Afghanistan</td>\n",
              "      <td>Asia</td>\n",
              "      <td>1972</td>\n",
              "      <td>36.088</td>\n",
              "      <td>13079460</td>\n",
              "      <td>739.981106</td>\n",
              "      <td>AFG</td>\n",
              "      <td>4</td>\n",
              "    </tr>\n",
              "  </tbody>\n",
              "</table>\n",
              "</div>"
            ],
            "text/plain": [
              "       country continent  year  ...   gdpPercap  iso_alpha  iso_num\n",
              "0  Afghanistan      Asia  1952  ...  779.445314        AFG        4\n",
              "1  Afghanistan      Asia  1957  ...  820.853030        AFG        4\n",
              "2  Afghanistan      Asia  1962  ...  853.100710        AFG        4\n",
              "3  Afghanistan      Asia  1967  ...  836.197138        AFG        4\n",
              "4  Afghanistan      Asia  1972  ...  739.981106        AFG        4\n",
              "\n",
              "[5 rows x 8 columns]"
            ]
          },
          "metadata": {
            "tags": []
          },
          "execution_count": 131
        }
      ]
    },
    {
      "cell_type": "code",
      "metadata": {
        "colab": {
          "base_uri": "https://localhost:8080/",
          "height": 224
        },
        "id": "CdnfvsjnbEk-",
        "outputId": "41cbf2d8-b5dd-456f-c36d-ca564acee55d"
      },
      "source": [
        "asdf['source'] = 'gapminder/Afghanistan' #공통 값 추가시\n",
        "asdf['real_gdp'] = asdf['gdpPercap'] * asdf['pop']  #인덱스별로 값 추가시\n",
        "asdf.head()"
      ],
      "execution_count": null,
      "outputs": [
        {
          "output_type": "execute_result",
          "data": {
            "text/html": [
              "<div>\n",
              "<style scoped>\n",
              "    .dataframe tbody tr th:only-of-type {\n",
              "        vertical-align: middle;\n",
              "    }\n",
              "\n",
              "    .dataframe tbody tr th {\n",
              "        vertical-align: top;\n",
              "    }\n",
              "\n",
              "    .dataframe thead th {\n",
              "        text-align: right;\n",
              "    }\n",
              "</style>\n",
              "<table border=\"1\" class=\"dataframe\">\n",
              "  <thead>\n",
              "    <tr style=\"text-align: right;\">\n",
              "      <th></th>\n",
              "      <th>country</th>\n",
              "      <th>continent</th>\n",
              "      <th>year</th>\n",
              "      <th>lifeExp</th>\n",
              "      <th>pop</th>\n",
              "      <th>gdpPercap</th>\n",
              "      <th>iso_alpha</th>\n",
              "      <th>iso_num</th>\n",
              "      <th>source</th>\n",
              "      <th>real_gdp</th>\n",
              "    </tr>\n",
              "  </thead>\n",
              "  <tbody>\n",
              "    <tr>\n",
              "      <th>0</th>\n",
              "      <td>Afghanistan</td>\n",
              "      <td>Asia</td>\n",
              "      <td>1952</td>\n",
              "      <td>28.801</td>\n",
              "      <td>8425333</td>\n",
              "      <td>779.445314</td>\n",
              "      <td>AFG</td>\n",
              "      <td>4</td>\n",
              "      <td>gapminder/Afghanistan</td>\n",
              "      <td>6.567086e+09</td>\n",
              "    </tr>\n",
              "    <tr>\n",
              "      <th>1</th>\n",
              "      <td>Afghanistan</td>\n",
              "      <td>Asia</td>\n",
              "      <td>1957</td>\n",
              "      <td>30.332</td>\n",
              "      <td>9240934</td>\n",
              "      <td>820.853030</td>\n",
              "      <td>AFG</td>\n",
              "      <td>4</td>\n",
              "      <td>gapminder/Afghanistan</td>\n",
              "      <td>7.585449e+09</td>\n",
              "    </tr>\n",
              "    <tr>\n",
              "      <th>2</th>\n",
              "      <td>Afghanistan</td>\n",
              "      <td>Asia</td>\n",
              "      <td>1962</td>\n",
              "      <td>31.997</td>\n",
              "      <td>10267083</td>\n",
              "      <td>853.100710</td>\n",
              "      <td>AFG</td>\n",
              "      <td>4</td>\n",
              "      <td>gapminder/Afghanistan</td>\n",
              "      <td>8.758856e+09</td>\n",
              "    </tr>\n",
              "    <tr>\n",
              "      <th>3</th>\n",
              "      <td>Afghanistan</td>\n",
              "      <td>Asia</td>\n",
              "      <td>1967</td>\n",
              "      <td>34.020</td>\n",
              "      <td>11537966</td>\n",
              "      <td>836.197138</td>\n",
              "      <td>AFG</td>\n",
              "      <td>4</td>\n",
              "      <td>gapminder/Afghanistan</td>\n",
              "      <td>9.648014e+09</td>\n",
              "    </tr>\n",
              "    <tr>\n",
              "      <th>4</th>\n",
              "      <td>Afghanistan</td>\n",
              "      <td>Asia</td>\n",
              "      <td>1972</td>\n",
              "      <td>36.088</td>\n",
              "      <td>13079460</td>\n",
              "      <td>739.981106</td>\n",
              "      <td>AFG</td>\n",
              "      <td>4</td>\n",
              "      <td>gapminder/Afghanistan</td>\n",
              "      <td>9.678553e+09</td>\n",
              "    </tr>\n",
              "  </tbody>\n",
              "</table>\n",
              "</div>"
            ],
            "text/plain": [
              "       country continent  year  ...  iso_num                 source      real_gdp\n",
              "0  Afghanistan      Asia  1952  ...        4  gapminder/Afghanistan  6.567086e+09\n",
              "1  Afghanistan      Asia  1957  ...        4  gapminder/Afghanistan  7.585449e+09\n",
              "2  Afghanistan      Asia  1962  ...        4  gapminder/Afghanistan  8.758856e+09\n",
              "3  Afghanistan      Asia  1967  ...        4  gapminder/Afghanistan  9.648014e+09\n",
              "4  Afghanistan      Asia  1972  ...        4  gapminder/Afghanistan  9.678553e+09\n",
              "\n",
              "[5 rows x 10 columns]"
            ]
          },
          "metadata": {
            "tags": []
          },
          "execution_count": 132
        }
      ]
    },
    {
      "cell_type": "code",
      "metadata": {
        "colab": {
          "base_uri": "https://localhost:8080/"
        },
        "id": "cwDFbtjib4Cj",
        "outputId": "3664db0c-a218-4b9a-9be6-5daf6a5d1696"
      },
      "source": [
        "split_res = asdf['source'].str.split(\"/\")\n",
        "print(split_res.head())\n",
        "print(type(split_res)) #결과는 series\n",
        "print(type(split_res[0])) #개별 결과는 list\n",
        "print(split_res.str[0].head()) #.str을 통해서 리스트 인덱싱 처럼 추출가능\n",
        "print(split_res.str[1].head())"
      ],
      "execution_count": null,
      "outputs": [
        {
          "output_type": "stream",
          "text": [
            "0    [gapminder, Afghanistan]\n",
            "1    [gapminder, Afghanistan]\n",
            "2    [gapminder, Afghanistan]\n",
            "3    [gapminder, Afghanistan]\n",
            "4    [gapminder, Afghanistan]\n",
            "Name: source, dtype: object\n",
            "<class 'pandas.core.series.Series'>\n",
            "<class 'list'>\n",
            "0    gapminder\n",
            "1    gapminder\n",
            "2    gapminder\n",
            "3    gapminder\n",
            "4    gapminder\n",
            "Name: source, dtype: object\n",
            "0    Afghanistan\n",
            "1    Afghanistan\n",
            "2    Afghanistan\n",
            "3    Afghanistan\n",
            "4    Afghanistan\n",
            "Name: source, dtype: object\n"
          ],
          "name": "stdout"
        }
      ]
    },
    {
      "cell_type": "code",
      "metadata": {
        "id": "vAihdn3-dfrx"
      },
      "source": [
        "asdf['foundation_name']=split_res.str[0]\n",
        "asdf['foundation_country']=split_res.str[1]"
      ],
      "execution_count": null,
      "outputs": []
    },
    {
      "cell_type": "code",
      "metadata": {
        "colab": {
          "base_uri": "https://localhost:8080/"
        },
        "id": "7xfTfBmRevWo",
        "outputId": "3632e444-9578-411c-ca24-280713adc262"
      },
      "source": [
        "asdf['source']=asdf['source'].str.replace('/','-') # repplace(찾을내용, 바꿀내용). 주의, return 값은 객체임\n",
        "asdf['source'].head()"
      ],
      "execution_count": null,
      "outputs": [
        {
          "output_type": "execute_result",
          "data": {
            "text/plain": [
              "0    gapminder-Afghanistan\n",
              "1    gapminder-Afghanistan\n",
              "2    gapminder-Afghanistan\n",
              "3    gapminder-Afghanistan\n",
              "4    gapminder-Afghanistan\n",
              "Name: source, dtype: object"
            ]
          },
          "metadata": {
            "tags": []
          },
          "execution_count": 141
        }
      ]
    },
    {
      "cell_type": "code",
      "metadata": {
        "colab": {
          "base_uri": "https://localhost:8080/",
          "height": 309
        },
        "id": "wQkJn-LQg25Y",
        "outputId": "2b37f830-2bfb-4a98-a730-130ffade906a"
      },
      "source": [
        "asdf.head()"
      ],
      "execution_count": null,
      "outputs": [
        {
          "output_type": "execute_result",
          "data": {
            "text/html": [
              "<div>\n",
              "<style scoped>\n",
              "    .dataframe tbody tr th:only-of-type {\n",
              "        vertical-align: middle;\n",
              "    }\n",
              "\n",
              "    .dataframe tbody tr th {\n",
              "        vertical-align: top;\n",
              "    }\n",
              "\n",
              "    .dataframe thead th {\n",
              "        text-align: right;\n",
              "    }\n",
              "</style>\n",
              "<table border=\"1\" class=\"dataframe\">\n",
              "  <thead>\n",
              "    <tr style=\"text-align: right;\">\n",
              "      <th></th>\n",
              "      <th>country</th>\n",
              "      <th>continent</th>\n",
              "      <th>year</th>\n",
              "      <th>lifeExp</th>\n",
              "      <th>pop</th>\n",
              "      <th>gdpPercap</th>\n",
              "      <th>iso_alpha</th>\n",
              "      <th>iso_num</th>\n",
              "      <th>source</th>\n",
              "      <th>real_gdp</th>\n",
              "      <th>foundation_name</th>\n",
              "      <th>foundation_country</th>\n",
              "    </tr>\n",
              "  </thead>\n",
              "  <tbody>\n",
              "    <tr>\n",
              "      <th>0</th>\n",
              "      <td>Afghanistan</td>\n",
              "      <td>Asia</td>\n",
              "      <td>1952</td>\n",
              "      <td>28.801</td>\n",
              "      <td>8425333</td>\n",
              "      <td>779.445314</td>\n",
              "      <td>AFG</td>\n",
              "      <td>4</td>\n",
              "      <td>gapminder-Afghanistan</td>\n",
              "      <td>6.567086e+09</td>\n",
              "      <td>gapminder</td>\n",
              "      <td>Afghanistan</td>\n",
              "    </tr>\n",
              "    <tr>\n",
              "      <th>1</th>\n",
              "      <td>Afghanistan</td>\n",
              "      <td>Asia</td>\n",
              "      <td>1957</td>\n",
              "      <td>30.332</td>\n",
              "      <td>9240934</td>\n",
              "      <td>820.853030</td>\n",
              "      <td>AFG</td>\n",
              "      <td>4</td>\n",
              "      <td>gapminder-Afghanistan</td>\n",
              "      <td>7.585449e+09</td>\n",
              "      <td>gapminder</td>\n",
              "      <td>Afghanistan</td>\n",
              "    </tr>\n",
              "    <tr>\n",
              "      <th>2</th>\n",
              "      <td>Afghanistan</td>\n",
              "      <td>Asia</td>\n",
              "      <td>1962</td>\n",
              "      <td>31.997</td>\n",
              "      <td>10267083</td>\n",
              "      <td>853.100710</td>\n",
              "      <td>AFG</td>\n",
              "      <td>4</td>\n",
              "      <td>gapminder-Afghanistan</td>\n",
              "      <td>8.758856e+09</td>\n",
              "      <td>gapminder</td>\n",
              "      <td>Afghanistan</td>\n",
              "    </tr>\n",
              "    <tr>\n",
              "      <th>3</th>\n",
              "      <td>Afghanistan</td>\n",
              "      <td>Asia</td>\n",
              "      <td>1967</td>\n",
              "      <td>34.020</td>\n",
              "      <td>11537966</td>\n",
              "      <td>836.197138</td>\n",
              "      <td>AFG</td>\n",
              "      <td>4</td>\n",
              "      <td>gapminder-Afghanistan</td>\n",
              "      <td>9.648014e+09</td>\n",
              "      <td>gapminder</td>\n",
              "      <td>Afghanistan</td>\n",
              "    </tr>\n",
              "    <tr>\n",
              "      <th>4</th>\n",
              "      <td>Afghanistan</td>\n",
              "      <td>Asia</td>\n",
              "      <td>1972</td>\n",
              "      <td>36.088</td>\n",
              "      <td>13079460</td>\n",
              "      <td>739.981106</td>\n",
              "      <td>AFG</td>\n",
              "      <td>4</td>\n",
              "      <td>gapminder-Afghanistan</td>\n",
              "      <td>9.678553e+09</td>\n",
              "      <td>gapminder</td>\n",
              "      <td>Afghanistan</td>\n",
              "    </tr>\n",
              "  </tbody>\n",
              "</table>\n",
              "</div>"
            ],
            "text/plain": [
              "       country continent  year  ...      real_gdp  foundation_name  foundation_country\n",
              "0  Afghanistan      Asia  1952  ...  6.567086e+09        gapminder         Afghanistan\n",
              "1  Afghanistan      Asia  1957  ...  7.585449e+09        gapminder         Afghanistan\n",
              "2  Afghanistan      Asia  1962  ...  8.758856e+09        gapminder         Afghanistan\n",
              "3  Afghanistan      Asia  1967  ...  9.648014e+09        gapminder         Afghanistan\n",
              "4  Afghanistan      Asia  1972  ...  9.678553e+09        gapminder         Afghanistan\n",
              "\n",
              "[5 rows x 12 columns]"
            ]
          },
          "metadata": {
            "tags": []
          },
          "execution_count": 142
        }
      ]
    }
  ]
}
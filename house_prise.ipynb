{
  "nbformat": 4,
  "nbformat_minor": 0,
  "metadata": {
    "colab": {
      "name": "house_prise.ipynb",
      "provenance": [],
      "collapsed_sections": [],
      "machine_shape": "hm",
      "authorship_tag": "ABX9TyMwyfDG/3doWL+q32VuaJ3S",
      "include_colab_link": true
    },
    "kernelspec": {
      "name": "python3",
      "display_name": "Python 3"
    }
  },
  "cells": [
    {
      "cell_type": "markdown",
      "metadata": {
        "id": "view-in-github",
        "colab_type": "text"
      },
      "source": [
        "<a href=\"https://colab.research.google.com/github/HeSH-0629/Keras-Study/blob/main/house_prise.ipynb\" target=\"_parent\"><img src=\"https://colab.research.google.com/assets/colab-badge.svg\" alt=\"Open In Colab\"/></a>"
      ]
    },
    {
      "cell_type": "markdown",
      "metadata": {
        "id": "boQJ_3tlwRvm"
      },
      "source": [
        "2021.01.10 D+125  \r\n",
        "\r\n",
        "> 주택 가격 예측 (회귀, regression)"
      ]
    },
    {
      "cell_type": "code",
      "metadata": {
        "id": "k_BzYTlFp9vB"
      },
      "source": [
        "import keras\r\n",
        "from keras.datasets import boston_housing\r\n",
        "(train_data, train_targets), (test_data, test_targets) =  boston_housing.load_data()"
      ],
      "execution_count": 6,
      "outputs": []
    },
    {
      "cell_type": "markdown",
      "metadata": {
        "id": "ueB8RQghxHia"
      },
      "source": [
        "data들은 13종류의 지표들을 포함 (특성별로 수치가 다르기 때문에 정규화 작업 필요)  \r\n",
        "target은 집값"
      ]
    },
    {
      "cell_type": "code",
      "metadata": {
        "id": "i2JIJKPUxwvA"
      },
      "source": [
        "mean = train_data.mean(axis=0) #특성들의 값을 따라 평균 계산\r\n",
        "train_data-=mean\r\n",
        "std=train_data.std(axis=0) #특성들의 값을 따라 표준편차 계산\r\n",
        "train_data /= std # Z = (X-m)/std\r\n",
        "\r\n",
        "test_data -= mean\r\n",
        "test_data /= std"
      ],
      "execution_count": 7,
      "outputs": []
    },
    {
      "cell_type": "markdown",
      "metadata": {
        "id": "lbuR_W_hyTY3"
      },
      "source": [
        "**모델구성**"
      ]
    },
    {
      "cell_type": "code",
      "metadata": {
        "id": "qq_1cGcyyWxR"
      },
      "source": [
        "from keras import models\r\n",
        "from keras import layers\r\n",
        "\r\n",
        "def build_model():\r\n",
        "  model=models.Sequential()\r\n",
        "  model.add(layers.Dense(64, activation='relu', input_shape=(train_data.shape[1],))) #특성들 (13가지)을 주입\r\n",
        "  model.add(layers.Dense(64, activation='relu'))\r\n",
        "  model.add(layers.Dense(1)) #선형층을 남겨서 스칼라 회귀를 위해 값을 출력시킴\r\n",
        "  model.compile(optimizer='rmsprop', loss='mse',metrics=['mae'])\r\n",
        "  return model"
      ],
      "execution_count": 8,
      "outputs": []
    },
    {
      "cell_type": "markdown",
      "metadata": {
        "id": "dfcIQwc6zwaA"
      },
      "source": [
        "사용할 수 있는 자료의 개수가 적은 경우 **K-겹 검증**을 이용"
      ]
    },
    {
      "cell_type": "code",
      "metadata": {
        "colab": {
          "base_uri": "https://localhost:8080/"
        },
        "id": "8fl-erGwz6R2",
        "outputId": "4a48fa88-6161-405c-e439-90326f8a25ef"
      },
      "source": [
        "import numpy as np\r\n",
        "\r\n",
        "k=4\r\n",
        "num_val_samples = len(train_data) // 4\r\n",
        "num_epochs = 500\r\n",
        "all_mae_histories = []\r\n",
        "for i in range(k):\r\n",
        "  print('처리중인 폴드 #', i)\r\n",
        "  # 검증(validation) 데이터 준비: k번째 분할\r\n",
        "  val_data = train_data[i*num_val_samples:(i+1)*num_val_samples]\r\n",
        "  val_targets = train_targets[i*num_val_samples:(i+1)*num_val_samples]\r\n",
        "\r\n",
        "  # 훈련 데이터 만들기\r\n",
        "  partial_train_data = np.concatenate(\r\n",
        "      [train_data[:i*num_val_samples],train_data[(i+1)*num_val_samples:]],\r\n",
        "      axis=0)\r\n",
        "  partial_train_targets = np.concatenate(\r\n",
        "      [train_targets[:i*num_val_samples],train_targets[(i+1)*num_val_samples:]],\r\n",
        "      axis=0)\r\n",
        "  model = build_model()\r\n",
        "  history = model.fit(partial_train_data,partial_train_targets,\r\n",
        "                        validation_data=(val_data, val_targets),\r\n",
        "                        epochs=num_epochs, batch_size=1, verbose=0) #verbose=0 이면 훈련 과정 출력X\r\n",
        "  mae_history = history.history['val_mae']\r\n",
        "  all_mae_histories.append(mae_history)\r\n",
        "average_mae_history = [\r\n",
        "  np.mean([x[i]for x in all_mae_histories]) for i in range(num_epochs)] #폴드별로 평균 값을 계산하여 저장"
      ],
      "execution_count": 10,
      "outputs": [
        {
          "output_type": "stream",
          "text": [
            "처리중인 폴드 # 0\n",
            "처리중인 폴드 # 1\n",
            "처리중인 폴드 # 2\n",
            "처리중인 폴드 # 3\n"
          ],
          "name": "stdout"
        }
      ]
    },
    {
      "cell_type": "markdown",
      "metadata": {
        "id": "Z3O1aiku4wHX"
      },
      "source": [
        "**그래프 출력**"
      ]
    },
    {
      "cell_type": "code",
      "metadata": {
        "colab": {
          "base_uri": "https://localhost:8080/",
          "height": 278
        },
        "id": "vIT05FbC8DoZ",
        "outputId": "46cc557d-4d98-4e46-8d03-c1b4e9785bb7"
      },
      "source": [
        "import matplotlib.pyplot as plt\r\n",
        "plt.plot(range(1,len(average_mae_history)+1),average_mae_history)\r\n",
        "plt.xlabel('Epochs')\r\n",
        "plt.ylabel('Validation MAE')\r\n",
        "plt.show()"
      ],
      "execution_count": 11,
      "outputs": [
        {
          "output_type": "display_data",
          "data": {
            "image/png": "[encoded data removed]",
            "text/plain": [
              "<Figure size 432x288 with 1 Axes>"
            ]
          },
          "metadata": {
            "tags": [],
            "needs_background": "light"
          }
        }
      ]
    },
    {
      "cell_type": "markdown",
      "metadata": {
        "id": "5BJ-lv1fC9Tc"
      },
      "source": [
        "그래프 범위가 크고 변동이 심하므로 **지수 평균 이동 (exponential moving average)** 사용\r\n",
        "\r\n",
        "> 모든 지점에서 값을 **(이전 값* factor) + (현재 값 * (1- factor))** 로 변환  \r\n",
        "> 앞의 50개 포인트가 튀므로 제외\r\n",
        "\r\n"
      ]
    },
    {
      "cell_type": "code",
      "metadata": {
        "colab": {
          "base_uri": "https://localhost:8080/",
          "height": 278
        },
        "id": "pJcWT1BB5AtT",
        "outputId": "94fb6f98-98e2-4165-85c2-e70598123ed5"
      },
      "source": [
        "def smooth_curve(points, factor=0.9):\r\n",
        "  smoothed_points= []\r\n",
        "  for point in points:\r\n",
        "    if smoothed_points:\r\n",
        "      previous = smoothed_points[-1]\r\n",
        "      smoothed_points.append(previous * factor + point * (1- factor))\r\n",
        "    else:\r\n",
        "      smoothed_points.append(point)\r\n",
        "  return smoothed_points\r\n",
        "\r\n",
        "smooth_mae_history = smooth_curve(average_mae_history[50:])\r\n",
        "plt.plot(range(1,len(smooth_mae_history)+1),smooth_mae_history)\r\n",
        "plt.xlabel('Epochs')\r\n",
        "plt.ylabel('Validation MAE')\r\n",
        "plt.show()"
      ],
      "execution_count": 22,
      "outputs": [
        {
          "output_type": "display_data",
          "data": {
            "image/png": "[encoded data removed]",
            "text/plain": [
              "<Figure size 432x288 with 1 Axes>"
            ]
          },
          "metadata": {
            "tags": [],
            "needs_background": "light"
          }
        }
      ]
    },
    {
      "cell_type": "markdown",
      "metadata": {
        "id": "fFxkILKwCxZc"
      },
      "source": [
        "마지막으로 새롭게 컴파일 한 모델을 얻고 전체 데이터로 훈련시킨 다음 테스트 진행"
      ]
    },
    {
      "cell_type": "code",
      "metadata": {
        "colab": {
          "base_uri": "https://localhost:8080/"
        },
        "id": "LuISq4TeCYJ6",
        "outputId": "ba86c89d-5070-4c43-b889-46c04973008c"
      },
      "source": [
        "model = build_model()\r\n",
        "model.fit(train_data, train_targets,\r\n",
        "          epochs=80, batch_size=16, verbose=0)\r\n",
        "test_mse_score, test_mae_score = model.evaluate(test_data, test_targets)"
      ],
      "execution_count": 13,
      "outputs": [
        {
          "output_type": "stream",
          "text": [
            "4/4 [==============================] - 0s 2ms/step - loss: 19.1576 - mae: 2.6946\n"
          ],
          "name": "stdout"
        }
      ]
    },
    {
      "cell_type": "markdown",
      "metadata": {
        "id": "aJy2ccHQDgut"
      },
      "source": [
        "현재 평균 적인 오차는 2694.6$"
      ]
    }
  ]
}
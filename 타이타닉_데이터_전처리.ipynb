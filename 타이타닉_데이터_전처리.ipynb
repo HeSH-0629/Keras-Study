{
  "nbformat": 4,
  "nbformat_minor": 0,
  "metadata": {
    "colab": {
      "name": "타이타닉_데이터_전처리.ipynb",
      "provenance": [],
      "collapsed_sections": [],
      "mount_file_id": "1mqk8a2yYGApIs1ul9TF8qrJ3O7ImKtrn",
      "authorship_tag": "ABX9TyNpu3l5QFYS8hkDAp2RT7YQ",
      "include_colab_link": true
    },
    "kernelspec": {
      "name": "python3",
      "display_name": "Python 3"
    },
    "language_info": {
      "name": "python"
    }
  },
  "cells": [
    {
      "cell_type": "markdown",
      "metadata": {
        "id": "view-in-github",
        "colab_type": "text"
      },
      "source": [
        "<a href=\"https://colab.research.google.com/github/Hesh0629/Keras-Study/blob/main/%ED%83%80%EC%9D%B4%ED%83%80%EB%8B%89_%EB%8D%B0%EC%9D%B4%ED%84%B0_%EC%A0%84%EC%B2%98%EB%A6%AC.ipynb\" target=\"_parent\"><img src=\"https://colab.research.google.com/assets/colab-badge.svg\" alt=\"Open In Colab\"/></a>"
      ]
    },
    {
      "cell_type": "code",
      "metadata": {
        "colab": {
          "base_uri": "https://localhost:8080/"
        },
        "id": "zpet3_ZeioBX",
        "outputId": "f4b80175-ef83-4e41-ced4-099286dfeca1"
      },
      "source": [
        "import pandas as pd\n",
        "import numpy as np\n",
        "train=pd.read_csv('/content/drive/MyDrive/titanic_train.csv')\n",
        "test=pd.read_csv('/content/drive/MyDrive/titanic_test.csv')\n",
        "total_data=[train,test] #이렇게 리스트안에 넣어서 한번에 값 처리 할 수 있도록 함\n",
        "\n",
        "train.info()"
      ],
      "execution_count": null,
      "outputs": [
        {
          "output_type": "stream",
          "text": [
            "<class 'pandas.core.frame.DataFrame'>\n",
            "RangeIndex: 891 entries, 0 to 890\n",
            "Data columns (total 12 columns):\n",
            " #   Column       Non-Null Count  Dtype  \n",
            "---  ------       --------------  -----  \n",
            " 0   PassengerId  891 non-null    int64  \n",
            " 1   Survived     891 non-null    int64  \n",
            " 2   Pclass       891 non-null    int64  \n",
            " 3   Name         891 non-null    object \n",
            " 4   Sex          891 non-null    object \n",
            " 5   Age          714 non-null    float64\n",
            " 6   SibSp        891 non-null    int64  \n",
            " 7   Parch        891 non-null    int64  \n",
            " 8   Ticket       891 non-null    object \n",
            " 9   Fare         891 non-null    float64\n",
            " 10  Cabin        204 non-null    object \n",
            " 11  Embarked     889 non-null    object \n",
            "dtypes: float64(2), int64(5), object(5)\n",
            "memory usage: 83.7+ KB\n"
          ],
          "name": "stdout"
        }
      ]
    },
    {
      "cell_type": "markdown",
      "metadata": {
        "id": "8dyDerR_lEB7"
      },
      "source": [
        "Age, Embarked Cabin에 데이터 유실값 존재"
      ]
    },
    {
      "cell_type": "code",
      "metadata": {
        "colab": {
          "base_uri": "https://localhost:8080/"
        },
        "id": "-9I76K6hlKq5",
        "outputId": "898c4401-eef9-42d8-b50e-df0c3a2b9276"
      },
      "source": [
        "train.isnull().sum()"
      ],
      "execution_count": null,
      "outputs": [
        {
          "output_type": "execute_result",
          "data": {
            "text/plain": [
              "PassengerId      0\n",
              "Survived         0\n",
              "Pclass           0\n",
              "Name             0\n",
              "Sex              0\n",
              "Age            177\n",
              "SibSp            0\n",
              "Parch            0\n",
              "Ticket           0\n",
              "Fare             0\n",
              "Cabin          687\n",
              "Embarked         2\n",
              "dtype: int64"
            ]
          },
          "metadata": {
            "tags": []
          },
          "execution_count": 164
        }
      ]
    },
    {
      "cell_type": "code",
      "metadata": {
        "id": "-q20iXEKlY7R"
      },
      "source": [
        "def bar_chart(feature):\n",
        "    survived = train[train['Survived']==1][feature].value_counts()\n",
        "    dead = train[train['Survived']==0][feature].value_counts()\n",
        "    df = pd.DataFrame([survived,dead])\n",
        "    df.index = ['Survived','Dead']\n",
        "    df.plot(kind='bar', figsize=(10,5))"
      ],
      "execution_count": null,
      "outputs": []
    },
    {
      "cell_type": "code",
      "metadata": {
        "colab": {
          "base_uri": "https://localhost:8080/",
          "height": 354
        },
        "id": "KB2bocmCondS",
        "outputId": "40426bf4-cbd4-41d5-9f60-7492aad4373a"
      },
      "source": [
        "bar_chart('Parch')"
      ],
      "execution_count": null,
      "outputs": [
        {
          "output_type": "display_data",
          "data": {
            "image/png": "[encoded data removed]",
            "text/plain": [
              "<Figure size 720x360 with 1 Axes>"
            ]
          },
          "metadata": {
            "tags": [],
            "needs_background": "light"
          }
        }
      ]
    },
    {
      "cell_type": "markdown",
      "metadata": {
        "id": "PTGPQzffyhkU"
      },
      "source": [
        "원래는 Cabin번호 그나마 남아있던거 끄집어 내야하지만 내일로..."
      ]
    },
    {
      "cell_type": "code",
      "metadata": {
        "id": "mcJSKF1XrEAI"
      },
      "source": [
        "train.drop('Name',axis=1,inplace=True)\n",
        "train.drop('Ticket',axis=1,inplace=True)\n",
        "train.drop('Cabin',axis=1,inplace=True)\n",
        "test.drop('Name',axis=1,inplace=True)\n",
        "test.drop('Ticket',axis=1,inplace=True)\n",
        "test.drop('Cabin',axis=1,inplace=True)"
      ],
      "execution_count": null,
      "outputs": []
    },
    {
      "cell_type": "code",
      "metadata": {
        "colab": {
          "base_uri": "https://localhost:8080/",
          "height": 416
        },
        "id": "-SuO8d08r5W2",
        "outputId": "604dd88c-729c-4ad7-dbf2-02f6223da9d9"
      },
      "source": [
        "train"
      ],
      "execution_count": null,
      "outputs": [
        {
          "output_type": "execute_result",
          "data": {
            "text/html": [
              "<div>\n",
              "<style scoped>\n",
              "    .dataframe tbody tr th:only-of-type {\n",
              "        vertical-align: middle;\n",
              "    }\n",
              "\n",
              "    .dataframe tbody tr th {\n",
              "        vertical-align: top;\n",
              "    }\n",
              "\n",
              "    .dataframe thead th {\n",
              "        text-align: right;\n",
              "    }\n",
              "</style>\n",
              "<table border=\"1\" class=\"dataframe\">\n",
              "  <thead>\n",
              "    <tr style=\"text-align: right;\">\n",
              "      <th></th>\n",
              "      <th>PassengerId</th>\n",
              "      <th>Survived</th>\n",
              "      <th>Pclass</th>\n",
              "      <th>Sex</th>\n",
              "      <th>Age</th>\n",
              "      <th>SibSp</th>\n",
              "      <th>Parch</th>\n",
              "      <th>Fare</th>\n",
              "      <th>Embarked</th>\n",
              "    </tr>\n",
              "  </thead>\n",
              "  <tbody>\n",
              "    <tr>\n",
              "      <th>0</th>\n",
              "      <td>1</td>\n",
              "      <td>0</td>\n",
              "      <td>3</td>\n",
              "      <td>male</td>\n",
              "      <td>22.0</td>\n",
              "      <td>1</td>\n",
              "      <td>0</td>\n",
              "      <td>7.2500</td>\n",
              "      <td>S</td>\n",
              "    </tr>\n",
              "    <tr>\n",
              "      <th>1</th>\n",
              "      <td>2</td>\n",
              "      <td>1</td>\n",
              "      <td>1</td>\n",
              "      <td>female</td>\n",
              "      <td>38.0</td>\n",
              "      <td>1</td>\n",
              "      <td>0</td>\n",
              "      <td>71.2833</td>\n",
              "      <td>C</td>\n",
              "    </tr>\n",
              "    <tr>\n",
              "      <th>2</th>\n",
              "      <td>3</td>\n",
              "      <td>1</td>\n",
              "      <td>3</td>\n",
              "      <td>female</td>\n",
              "      <td>26.0</td>\n",
              "      <td>0</td>\n",
              "      <td>0</td>\n",
              "      <td>7.9250</td>\n",
              "      <td>S</td>\n",
              "    </tr>\n",
              "    <tr>\n",
              "      <th>3</th>\n",
              "      <td>4</td>\n",
              "      <td>1</td>\n",
              "      <td>1</td>\n",
              "      <td>female</td>\n",
              "      <td>35.0</td>\n",
              "      <td>1</td>\n",
              "      <td>0</td>\n",
              "      <td>53.1000</td>\n",
              "      <td>S</td>\n",
              "    </tr>\n",
              "    <tr>\n",
              "      <th>4</th>\n",
              "      <td>5</td>\n",
              "      <td>0</td>\n",
              "      <td>3</td>\n",
              "      <td>male</td>\n",
              "      <td>35.0</td>\n",
              "      <td>0</td>\n",
              "      <td>0</td>\n",
              "      <td>8.0500</td>\n",
              "      <td>S</td>\n",
              "    </tr>\n",
              "    <tr>\n",
              "      <th>...</th>\n",
              "      <td>...</td>\n",
              "      <td>...</td>\n",
              "      <td>...</td>\n",
              "      <td>...</td>\n",
              "      <td>...</td>\n",
              "      <td>...</td>\n",
              "      <td>...</td>\n",
              "      <td>...</td>\n",
              "      <td>...</td>\n",
              "    </tr>\n",
              "    <tr>\n",
              "      <th>886</th>\n",
              "      <td>887</td>\n",
              "      <td>0</td>\n",
              "      <td>2</td>\n",
              "      <td>male</td>\n",
              "      <td>27.0</td>\n",
              "      <td>0</td>\n",
              "      <td>0</td>\n",
              "      <td>13.0000</td>\n",
              "      <td>S</td>\n",
              "    </tr>\n",
              "    <tr>\n",
              "      <th>887</th>\n",
              "      <td>888</td>\n",
              "      <td>1</td>\n",
              "      <td>1</td>\n",
              "      <td>female</td>\n",
              "      <td>19.0</td>\n",
              "      <td>0</td>\n",
              "      <td>0</td>\n",
              "      <td>30.0000</td>\n",
              "      <td>S</td>\n",
              "    </tr>\n",
              "    <tr>\n",
              "      <th>888</th>\n",
              "      <td>889</td>\n",
              "      <td>0</td>\n",
              "      <td>3</td>\n",
              "      <td>female</td>\n",
              "      <td>NaN</td>\n",
              "      <td>1</td>\n",
              "      <td>2</td>\n",
              "      <td>23.4500</td>\n",
              "      <td>S</td>\n",
              "    </tr>\n",
              "    <tr>\n",
              "      <th>889</th>\n",
              "      <td>890</td>\n",
              "      <td>1</td>\n",
              "      <td>1</td>\n",
              "      <td>male</td>\n",
              "      <td>26.0</td>\n",
              "      <td>0</td>\n",
              "      <td>0</td>\n",
              "      <td>30.0000</td>\n",
              "      <td>C</td>\n",
              "    </tr>\n",
              "    <tr>\n",
              "      <th>890</th>\n",
              "      <td>891</td>\n",
              "      <td>0</td>\n",
              "      <td>3</td>\n",
              "      <td>male</td>\n",
              "      <td>32.0</td>\n",
              "      <td>0</td>\n",
              "      <td>0</td>\n",
              "      <td>7.7500</td>\n",
              "      <td>Q</td>\n",
              "    </tr>\n",
              "  </tbody>\n",
              "</table>\n",
              "<p>891 rows × 9 columns</p>\n",
              "</div>"
            ],
            "text/plain": [
              "     PassengerId  Survived  Pclass     Sex  ...  SibSp  Parch     Fare  Embarked\n",
              "0              1         0       3    male  ...      1      0   7.2500         S\n",
              "1              2         1       1  female  ...      1      0  71.2833         C\n",
              "2              3         1       3  female  ...      0      0   7.9250         S\n",
              "3              4         1       1  female  ...      1      0  53.1000         S\n",
              "4              5         0       3    male  ...      0      0   8.0500         S\n",
              "..           ...       ...     ...     ...  ...    ...    ...      ...       ...\n",
              "886          887         0       2    male  ...      0      0  13.0000         S\n",
              "887          888         1       1  female  ...      0      0  30.0000         S\n",
              "888          889         0       3  female  ...      1      2  23.4500         S\n",
              "889          890         1       1    male  ...      0      0  30.0000         C\n",
              "890          891         0       3    male  ...      0      0   7.7500         Q\n",
              "\n",
              "[891 rows x 9 columns]"
            ]
          },
          "metadata": {
            "tags": []
          },
          "execution_count": 166
        }
      ]
    },
    {
      "cell_type": "markdown",
      "metadata": {
        "id": "lu52lKkeyuWi"
      },
      "source": [
        "string으로 된 성별을 0,1로 각각 매칭"
      ]
    },
    {
      "cell_type": "code",
      "metadata": {
        "id": "JxS2xYU_r8lb"
      },
      "source": [
        "sex_mapping = {\"male\": 0, \"female\":1} #우선 dict로 저장\n",
        "for dataset in total_data:\n",
        "    dataset['Sex'] = dataset['Sex'].map(sex_mapping)"
      ],
      "execution_count": null,
      "outputs": []
    },
    {
      "cell_type": "markdown",
      "metadata": {
        "id": "MFlxkeney_9f"
      },
      "source": [
        "능지 문제로 age와 fare의 빈 부분들을 평균값으로 대체"
      ]
    },
    {
      "cell_type": "code",
      "metadata": {
        "colab": {
          "base_uri": "https://localhost:8080/"
        },
        "id": "rc7E-PBpuO_Z",
        "outputId": "c5d3a4ae-e6cb-46fc-a592-016c16a04cd9"
      },
      "source": [
        "nan_age=(train.sum()[4]+test.sum()[4])/(train.shape[0]+test.shape[0])\n",
        "nan_age\n",
        "nan_fare=(train.sum()[6]+test.sum()[6])/(train.shape[0]+test.shape[0])\n",
        "print(nan_fare)"
      ],
      "execution_count": null,
      "outputs": [
        {
          "output_type": "stream",
          "text": [
            "11.60927242169595\n"
          ],
          "name": "stdout"
        }
      ]
    },
    {
      "cell_type": "code",
      "metadata": {
        "id": "pFNK6U6ZvhUO"
      },
      "source": [
        "for dataset in total_data:\n",
        "    dataset['Age']=dataset['Age'].fillna(value=nan_age)"
      ],
      "execution_count": null,
      "outputs": []
    },
    {
      "cell_type": "code",
      "metadata": {
        "colab": {
          "base_uri": "https://localhost:8080/"
        },
        "id": "GQIEQ6V1wX86",
        "outputId": "c906c0ce-b2d9-4df0-f9b3-39cda6927fd5"
      },
      "source": [
        "print(train.isnull().sum())\n",
        "print(test.isnull().sum())"
      ],
      "execution_count": null,
      "outputs": [
        {
          "output_type": "stream",
          "text": [
            "PassengerId    0\n",
            "Survived       0\n",
            "Pclass         0\n",
            "Sex            0\n",
            "Age            0\n",
            "SibSp          0\n",
            "Parch          0\n",
            "Fare           0\n",
            "Embarked       0\n",
            "dtype: int64\n",
            "PassengerId    0\n",
            "Pclass         0\n",
            "Sex            0\n",
            "Age            0\n",
            "SibSp          0\n",
            "Parch          0\n",
            "Fare           0\n",
            "Embarked       0\n",
            "dtype: int64\n"
          ],
          "name": "stdout"
        }
      ]
    },
    {
      "cell_type": "markdown",
      "metadata": {
        "id": "shm2WYHnzJA6"
      },
      "source": [
        "하나 남아있던 Embarked의 NaN 빈자리도 대체하는데 S가 제일 많아서 S로 대체"
      ]
    },
    {
      "cell_type": "code",
      "metadata": {
        "id": "O5ar55GbwABA"
      },
      "source": [
        "for dataset in total_data:\n",
        "    dataset['Embarked']=dataset['Embarked'].fillna(value='S')\n",
        "em_mapping = {\"S\": 0, \"C\":1, \"Q\":2}\n",
        "for dataset in total_data:\n",
        "    dataset['Embarked'] = dataset['Embarked'].map(em_mapping)"
      ],
      "execution_count": null,
      "outputs": []
    },
    {
      "cell_type": "code",
      "metadata": {
        "id": "2ogJYZZNwzu1"
      },
      "source": [
        "for dataset in total_data:\n",
        "  dataset['Fare'] = dataset['Fare'].fillna(value=nan_fare)"
      ],
      "execution_count": null,
      "outputs": []
    },
    {
      "cell_type": "code",
      "metadata": {
        "colab": {
          "base_uri": "https://localhost:8080/"
        },
        "id": "1XromHhlxyBB",
        "outputId": "99578d94-7a84-4b1e-a627-1002ceb92159"
      },
      "source": [
        "print(test.dtypes)"
      ],
      "execution_count": null,
      "outputs": [
        {
          "output_type": "stream",
          "text": [
            "PassengerId      int64\n",
            "Pclass           int64\n",
            "Sex              int64\n",
            "Age            float64\n",
            "SibSp            int64\n",
            "Parch            int64\n",
            "Fare           float64\n",
            "Embarked         int64\n",
            "dtype: object\n"
          ],
          "name": "stdout"
        }
      ]
    },
    {
      "cell_type": "markdown",
      "metadata": {
        "id": "iqUKfGOIzPPk"
      },
      "source": [
        "**이제 딥러닝 set에 주입준비 완료**"
      ]
    },
    {
      "cell_type": "code",
      "metadata": {
        "id": "0PVYpyNcze9V"
      },
      "source": [
        "train_label=train['Survived'].to_numpy()\n",
        "train_data=train.loc[:,'Pclass':].to_numpy()\n",
        "\n",
        "test_data=test.loc[:,'Pclass':].to_numpy()"
      ],
      "execution_count": null,
      "outputs": []
    },
    {
      "cell_type": "code",
      "metadata": {
        "id": "JMaZniXc15Nf"
      },
      "source": [
        "from keras import optimizers\n",
        "from keras import initializers\n",
        "from keras import layers\n",
        "from keras import models\n",
        "\n",
        "model=models.Sequential()\n",
        "model.add(layers.Dense(16,activation='relu',input_shape=(train_data.shape[1],),kernel_initializer=initializers.he_normal))\n",
        "model.add(layers.Dense(16,activation='relu',kernel_initializer=initializers.he_normal))\n",
        "model.add(layers.Dense(16,activation='relu',kernel_initializer=initializers.he_normal))\n",
        "model.add(layers.Dense(1,activation='sigmoid',kernel_initializer=initializers.he_normal))\n",
        "model.compile(optimizer='rmsprop',loss='binary_crossentropy',metrics=['acc'])"
      ],
      "execution_count": null,
      "outputs": []
    },
    {
      "cell_type": "code",
      "metadata": {
        "colab": {
          "base_uri": "https://localhost:8080/"
        },
        "id": "nOn8mTVM3f6Y",
        "outputId": "257d9e5e-3d1e-4006-bfc7-a995166c09df"
      },
      "source": [
        "train_data.shape"
      ],
      "execution_count": null,
      "outputs": [
        {
          "output_type": "execute_result",
          "data": {
            "text/plain": [
              "(891, 7)"
            ]
          },
          "metadata": {
            "tags": []
          },
          "execution_count": 180
        }
      ]
    },
    {
      "cell_type": "code",
      "metadata": {
        "id": "WaThxezh3a-K"
      },
      "source": [
        "val_data=train_data[:124]\n",
        "train_data=train_data[124:]\n",
        "val_label=train_label[:124]\n",
        "train_label=train_label[124:]"
      ],
      "execution_count": null,
      "outputs": []
    },
    {
      "cell_type": "code",
      "metadata": {
        "id": "tgyqUi4h3r9e"
      },
      "source": [
        "history=model.fit(train_data,train_label,batch_size=2,epochs=50,validation_data=(val_data,val_label),verbose=0)"
      ],
      "execution_count": null,
      "outputs": []
    },
    {
      "cell_type": "code",
      "metadata": {
        "colab": {
          "base_uri": "https://localhost:8080/"
        },
        "id": "vI2YTFv34WPX",
        "outputId": "1b5db55f-d742-472f-9d13-044f724bd01d"
      },
      "source": [
        "asdf=history.history\n",
        "np.max(asdf['acc'])"
      ],
      "execution_count": null,
      "outputs": [
        {
          "output_type": "execute_result",
          "data": {
            "text/plain": [
              "0.8044328689575195"
            ]
          },
          "metadata": {
            "tags": []
          },
          "execution_count": 225
        }
      ]
    },
    {
      "cell_type": "code",
      "metadata": {
        "colab": {
          "base_uri": "https://localhost:8080/"
        },
        "id": "JaasKIY56D7e",
        "outputId": "7da8389e-f4ae-4425-d74b-34536e26a295"
      },
      "source": [
        "model.evaluate(train_data,train_label,batch_size=1) #배치사이즈는 상관이 없다"
      ],
      "execution_count": null,
      "outputs": [
        {
          "output_type": "stream",
          "text": [
            "767/767 [==============================] - 1s 912us/step - loss: 0.4277 - acc: 0.8266\n"
          ],
          "name": "stdout"
        },
        {
          "output_type": "execute_result",
          "data": {
            "text/plain": [
              "[0.42773404717445374, 0.8265971541404724]"
            ]
          },
          "metadata": {
            "tags": []
          },
          "execution_count": 226
        }
      ]
    },
    {
      "cell_type": "code",
      "metadata": {
        "colab": {
          "base_uri": "https://localhost:8080/",
          "height": 294
        },
        "id": "MUfiURRU7SRn",
        "outputId": "2037bcaf-e751-40ce-e291-5b822176dd33"
      },
      "source": [
        "import matplotlib.pyplot as plt\n",
        "loss = history.history['loss']\n",
        "val_loss = history.history['val_loss']\n",
        "\n",
        "epochs = range(1, len(loss) + 1)\n",
        "\n",
        "plt.plot(epochs, loss, 'bo', label='Training loss')\n",
        "plt.plot(epochs, val_loss, 'b', label='Validation loss')\n",
        "plt.title('Training and validation loss')\n",
        "plt.xlabel('Epochs')\n",
        "plt.ylabel('Loss')\n",
        "plt.legend() #범례 그리기\n",
        "\n",
        "plt.show()"
      ],
      "execution_count": null,
      "outputs": [
        {
          "output_type": "display_data",
          "data": {
            "image/png": "[encoded data removed]",
            "text/plain": [
              "<Figure size 432x288 with 1 Axes>"
            ]
          },
          "metadata": {
            "tags": [],
            "needs_background": "light"
          }
        }
      ]
    },
    {
      "cell_type": "code",
      "metadata": {
        "colab": {
          "base_uri": "https://localhost:8080/",
          "height": 294
        },
        "id": "WfOpIMFv7YkJ",
        "outputId": "cefd9d90-2e29-4e15-80fe-b3c51a566b3d"
      },
      "source": [
        "import matplotlib.pyplot as plt\n",
        "loss = history.history['acc']\n",
        "val_loss = history.history['val_acc']\n",
        "\n",
        "epochs = range(1, len(loss) + 1)\n",
        "\n",
        "plt.plot(epochs, loss, 'bo', label='Training acc')\n",
        "plt.plot(epochs, val_loss, 'b', label='Validation acc')\n",
        "plt.title('Training and validation acc')\n",
        "plt.xlabel('Epochs')\n",
        "plt.ylabel('acc')\n",
        "plt.legend() #범례 그리기\n",
        "\n",
        "plt.show()"
      ],
      "execution_count": null,
      "outputs": [
        {
          "output_type": "display_data",
          "data": {
            "image/png": "[encoded data removed]",
            "text/plain": [
              "<Figure size 432x288 with 1 Axes>"
            ]
          },
          "metadata": {
            "tags": [],
            "needs_background": "light"
          }
        }
      ]
    },
    {
      "cell_type": "markdown",
      "metadata": {
        "id": "f6joNw1a8R13"
      },
      "source": [
        "![dooly.jpg](data:image/jpeg;base64,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)\n",
        "\n",
        "**이...이게 뭐노....**"
      ]
    }
  ]
}